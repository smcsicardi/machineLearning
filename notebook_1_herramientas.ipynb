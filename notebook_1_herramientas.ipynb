{
 "cells": [
  {
   "cell_type": "markdown",
   "metadata": {
    "slideshow": {
     "slide_type": "slide"
    }
   },
   "source": [
    "# Introducción a las herramientas\n",
    "### Bienvenidos a Jupyter Notebooks! \n",
    "\n",
    "En este notebook exploraremos algunas de las funcionalidades básicas de bibliotecas en python3 que utilizaremos durante todo el cuatrimestre. \n",
    "\n",
    "Consejos: \n",
    "- Chequear \"Help / Keyboard shortcuts\"\n",
    "- Leer: https://learnxinyminutes.com/docs/python3/ como introducción a python3\n",
    "- Consultar: https://jakevdp.github.io/PythonDataScienceHandbook/ como introducción a pandas, numpy y matplotlib\n",
    "- Recomendamos para ejecutar estas notebooks instalar python3 y el resto de las bibliotecas dentro del paquete [anaconda](https://conda.io/docs/user-guide/install/index.html)\n"
   ]
  },
  {
   "cell_type": "markdown",
   "metadata": {},
   "source": [
    "## Carga de modulos"
   ]
  },
  {
   "cell_type": "code",
   "execution_count": null,
   "metadata": {
    "slideshow": {
     "slide_type": "fragment"
    }
   },
   "outputs": [],
   "source": [
    "%matplotlib inline\n",
    "\n",
    "import numpy as np # NUMPY\n",
    "import pandas as pd # PANDAS\n",
    "import matplotlib.pyplot as plt # MATPLOTLIB\n",
    "import seaborn as sns # SEABORN"
   ]
  },
  {
   "cell_type": "markdown",
   "metadata": {
    "slideshow": {
     "slide_type": "fragment"
    }
   },
   "source": [
    "#### Si la celda anterior no corre bien, chequear que se hayan instalado las librerías. En la terminal correr:\n",
    "```bash\n",
    "$ pip install sklearn numpy scipy matplotlib seaborn pandas\n",
    "```"
   ]
  },
  {
   "cell_type": "markdown",
   "metadata": {},
   "source": [
    "## Listas"
   ]
  },
  {
   "cell_type": "code",
   "execution_count": null,
   "metadata": {
    "slideshow": {
     "slide_type": "subslide"
    }
   },
   "outputs": [],
   "source": [
    "lista_python = [1,2,3,4]\n",
    "lista_python"
   ]
  },
  {
   "cell_type": "code",
   "execution_count": null,
   "metadata": {
    "slideshow": {
     "slide_type": "fragment"
    }
   },
   "outputs": [],
   "source": [
    "# Descomentar y probar lo siguiente:\n",
    "\n",
    "# print(lista_python + lista_python)  # funciona?\n",
    "# print(lista_python * 2)  # funciona?\n",
    "# print(lista_python ** 3) # funciona?\n",
    "# print(lista_python - lista_python)  # funciona?\n",
    "# print(lista_python * lista_python)  # funciona?\n"
   ]
  },
  {
   "cell_type": "markdown",
   "metadata": {
    "slideshow": {
     "slide_type": "slide"
    }
   },
   "source": [
    "## Numpy"
   ]
  },
  {
   "cell_type": "code",
   "execution_count": null,
   "metadata": {
    "slideshow": {
     "slide_type": "fragment"
    }
   },
   "outputs": [],
   "source": [
    "array_numpy = np.array([1,2,3,4,5])\n",
    "array_numpy"
   ]
  },
  {
   "cell_type": "code",
   "execution_count": null,
   "metadata": {
    "slideshow": {
     "slide_type": "fragment"
    }
   },
   "outputs": [],
   "source": [
    "print(array_numpy + array_numpy)\n",
    "print(array_numpy * 2)\n",
    "print(array_numpy ** 3)\n",
    "print(array_numpy * array_numpy)\n",
    "print(array_numpy - array_numpy)\n"
   ]
  },
  {
   "cell_type": "markdown",
   "metadata": {
    "slideshow": {
     "slide_type": "fragment"
    }
   },
   "source": [
    "#### Arreglos multidimensionales (Vectores, Matrices, Tensores, etc)"
   ]
  },
  {
   "cell_type": "code",
   "execution_count": null,
   "metadata": {
    "slideshow": {
     "slide_type": "fragment"
    }
   },
   "outputs": [],
   "source": [
    "v = np.array([1,2,3,4,5,6])\n",
    "print(\"Un vector de dim: \", v.shape)\n",
    "\n",
    "m = np.array([[1,2,3],[4,5,6], [7,8,9], [10, 11, 12]])\n",
    "print(\"Una matriz de dim:\", m.shape)\n",
    "\n",
    "t = np.array([[[1,2,3], [2,3,3]], [[1,3,2], [4,3,2]], \n",
    "              [[4,2,3], [0,3,-1]], [[10,3,21], [34,13,12]]])\n",
    "print(\"Un tensor de dim: \", t.shape) # Vector de matrices, o matriz de vectores"
   ]
  },
  {
   "cell_type": "code",
   "execution_count": null,
   "metadata": {
    "slideshow": {
     "slide_type": "slide"
    }
   },
   "outputs": [],
   "source": [
    "m"
   ]
  },
  {
   "cell_type": "code",
   "execution_count": null,
   "metadata": {
    "slideshow": {
     "slide_type": "fragment"
    }
   },
   "outputs": [],
   "source": [
    "print(\"suma con la función sum:\", sum(m))\n",
    "print(\"función sum de numpy array.sum:\", m.sum()) # suma toda la matriz\n",
    "print(\"función sum de numpy np.sum:\", np.sum(m)) # suma toda la matriz"
   ]
  },
  {
   "cell_type": "markdown",
   "metadata": {
    "slideshow": {
     "slide_type": "fragment"
    }
   },
   "source": [
    "- ```sum(m)``` devuelve la suma de cada columna, por qué?"
   ]
  },
  {
   "cell_type": "markdown",
   "metadata": {
    "slideshow": {
     "slide_type": "slide"
    }
   },
   "source": [
    "### Ejercicios: \n",
    "Implementar las siguientes funciones:"
   ]
  },
  {
   "cell_type": "code",
   "execution_count": null,
   "metadata": {
    "slideshow": {
     "slide_type": "fragment"
    }
   },
   "outputs": [],
   "source": [
    "def suma_por_fila(m):\n",
    "    # que devuelve la suma de cada fila de la matriz m. \n",
    "    # Debe devolver un vector columna: (n x 1)\n",
    "    return \"<<completar>>\"\n",
    "\n",
    "def transponer(m):\n",
    "    # que transponga la matriz m.\n",
    "    return \"<<completar>>\"\n",
    "\n",
    "def agregar_fila(m, row):\n",
    "    # que agregue la fila row a la matriz m.\n",
    "    return \"<<completar>>\"\n",
    "\n",
    "def convertir_a_columna(x):\n",
    "    # que convierta un vector fila en un vector columna. Es decir, de (1 x n) a (n x 1).\n",
    "    return \"<<completar>>\"\n",
    "\n",
    "def agregar_columna(m, col):\n",
    "    # que agregue la columna col a la matriz m.\n",
    "    return \"<<completar>>\"\n",
    "\n",
    "def producto(x, y):\n",
    "    # que multiplique los vectores x e y (producto interno): x^t.y\n",
    "    return \"<<completar>>\"\n",
    "\n",
    "def equiespaciados(n, a, b):\n",
    "    # que devuelva n puntos equiespaciados entre a y b.\n",
    "    return \"<<completar>>\"\n",
    "\n",
    "    \n",
    "# Para completar estas funciones, revisar la documentación, para ello, descomentar algunas de las siguientes líneas\n",
    "# np?\n",
    "# np??\n",
    "# np.sum?\n",
    "# np.vstack?\n",
    "# np.hstack?\n",
    "# np.shape?\n",
    "# np.reshape?\n",
    "# np.linspace?"
   ]
  },
  {
   "cell_type": "code",
   "execution_count": null,
   "metadata": {
    "slideshow": {
     "slide_type": "skip"
    }
   },
   "outputs": [],
   "source": [
    "\n",
    "print(\"Suma por fila\\n\", suma_por_fila(m))\n",
    "print(\"Transpuesta:\\n\", transponer(m))\n",
    "print(\"Fila nueva:\\n\", agregar_fila(m, np.array([13,14,15])))\n",
    "\n",
    "columna = convertir_a_columna(np.array([0,0,0,0]))\n",
    "                                     \n",
    "print(\"A vector columna:\\n\", columna)\n",
    "print(\"Columna nueva:\\n\", agregar_columna(m, columna))\n",
    "\n",
    "x = np.array([0,3,2,0])\n",
    "y =  np.array([4,1,2,2])\n",
    "print(\"producto: \", producto(x,y))\n",
    "\n",
    "print(\"equiespaciados: \\n\", equiespaciados(2, 4, 6))"
   ]
  },
  {
   "cell_type": "markdown",
   "metadata": {
    "slideshow": {
     "slide_type": "slide"
    }
   },
   "source": [
    "## Matplotlib"
   ]
  },
  {
   "cell_type": "code",
   "execution_count": null,
   "metadata": {
    "slideshow": {
     "slide_type": "skip"
    }
   },
   "outputs": [],
   "source": [
    "with plt.xkcd():\n",
    "    fig = plt.figure()\n",
    "    ax = fig.add_subplot(1, 1, 1)\n",
    "    ax.spines['right'].set_color('none')\n",
    "    ax.spines['top'].set_color('none')\n",
    "    plt.xticks([])\n",
    "    plt.yticks([])\n",
    "    ax.set_ylim([-30, 10])\n",
    "\n",
    "    data = np.ones(100)\n",
    "    data[70:] -= np.arange(30)\n",
    "\n",
    "    plt.annotate(\n",
    "        'El día que arrancó \"La casa de papel\"',\n",
    "        xy=(70, 1), arrowprops=dict(arrowstyle='->'), xytext=(15, -10))\n",
    "\n",
    "    plt.plot(data)\n",
    "\n",
    "    plt.xlabel('días')\n",
    "    plt.ylabel('productividad');\n",
    "plt.rcdefaults()"
   ]
  },
  {
   "cell_type": "code",
   "execution_count": null,
   "metadata": {
    "scrolled": false,
    "slideshow": {
     "slide_type": "fragment"
    }
   },
   "outputs": [],
   "source": [
    "x = np.linspace(-5, 5, 15)\n",
    "print(\"X=\", x)\n",
    "\n",
    "y = np.sin(x) # aplica sen a cada elemento. \n",
    "print(\"Y=\", y)\n",
    "\n"
   ]
  },
  {
   "cell_type": "code",
   "execution_count": null,
   "metadata": {
    "slideshow": {
     "slide_type": "fragment"
    }
   },
   "outputs": [],
   "source": [
    "# Descomentar lo siguiente para probar:\n",
    "# plt.plot?\n",
    "\n",
    "plt.figure(figsize=(10, 1.5))\n",
    "plt.plot(x, y, \".-\")"
   ]
  },
  {
   "cell_type": "code",
   "execution_count": null,
   "metadata": {
    "slideshow": {
     "slide_type": "slide"
    }
   },
   "outputs": [],
   "source": [
    "fig, axes = plt.subplots(1, 3, figsize=(15, 3))\n",
    "axes[0].plot(x, y, marker=\"x\", color=\"red\", linewidth=1)\n",
    "\n",
    "axes[1].plot(x, y, marker=\"x\", color=\"blue\", linewidth=0.5)\n",
    "axes[1].plot(x, y+1, marker=\"x\", linewidth=0.4)\n",
    "\n",
    "axes[2].plot(y, x, \".-\");\n"
   ]
  },
  {
   "cell_type": "code",
   "execution_count": null,
   "metadata": {
    "slideshow": {
     "slide_type": "skip"
    }
   },
   "outputs": [],
   "source": [
    "# Descomentar lo siguiente y probar\n",
    "# plt.scatter?"
   ]
  },
  {
   "cell_type": "code",
   "execution_count": null,
   "metadata": {
    "slideshow": {
     "slide_type": "slide"
    }
   },
   "outputs": [],
   "source": [
    "plt.figure(figsize=(10, 3))\n",
    "x1 = np.arange(0, 100)\n",
    "x2 = np.random.rand(100) * 5\n",
    "x3 = np.random.rand(100) - 1\n",
    "sizes = np.random.rand(100) * 100\n",
    "plt.scatter(x1, x2, color=\"blue\", marker=\"x\", s=sizes) # tamaños al azar\n",
    "plt.scatter(x1, x3, color=\"red\", s=np.linspace(0, 300, 100), alpha=0.5) # tamaños crecientes\n"
   ]
  },
  {
   "cell_type": "markdown",
   "metadata": {
    "slideshow": {
     "slide_type": "slide"
    }
   },
   "source": [
    "## Pandas"
   ]
  },
  {
   "cell_type": "code",
   "execution_count": null,
   "metadata": {
    "slideshow": {
     "slide_type": "fragment"
    }
   },
   "outputs": [],
   "source": [
    "import pandas as pd\n",
    "from IPython.display import display\n",
    "\n",
    "# Creamos un dataset\n",
    "data = {\"Nombre\": [\"El Profesor\", \"Mónica Gaztambide\", \"Raquel Murillo\", \"Tokio\",\"Berlín\",\"Alison Parker\"],\n",
    "        \"Rol\" : [\"Atracador\", \"Rehén\", \"Policia\", \"Atracador\", \"Atracador\", \"Rehén\"],\n",
    "        \"Edad\": [40, 35, 38, 25, 44, 16]\n",
    "       }\n",
    "\n",
    "data_pandas = pd.DataFrame(data)\n",
    "data_pandas"
   ]
  },
  {
   "cell_type": "code",
   "execution_count": null,
   "metadata": {
    "slideshow": {
     "slide_type": "fragment"
    }
   },
   "outputs": [],
   "source": [
    "display(data_pandas[data_pandas.Edad > 30])\n",
    "display(data_pandas.groupby(\"Rol\").mean())"
   ]
  },
  {
   "cell_type": "code",
   "execution_count": null,
   "metadata": {
    "slideshow": {
     "slide_type": "skip"
    }
   },
   "outputs": [],
   "source": [
    "mascara_edad = (data_pandas.Edad > 30)\n",
    "mascara_rol = (data_pandas.Rol == \"Atracador\")\n",
    "mascara = mascara_edad & mascara_rol\n",
    "print(\"Máscara: \\n\", mascara, sep=\"\")\n",
    "data_pandas[mascara]"
   ]
  }
 ],
 "metadata": {
  "kernelspec": {
   "display_name": "Python 3",
   "language": "python",
   "name": "python3"
  },
  "language_info": {
   "codemirror_mode": {
    "name": "ipython",
    "version": 3
   },
   "file_extension": ".py",
   "mimetype": "text/x-python",
   "name": "python",
   "nbconvert_exporter": "python",
   "pygments_lexer": "ipython3",
   "version": "3.6.5"
  }
 },
 "nbformat": 4,
 "nbformat_minor": 2
}
