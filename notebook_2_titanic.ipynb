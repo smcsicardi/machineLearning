{
 "cells": [
  {
   "cell_type": "code",
   "execution_count": 33,
   "metadata": {},
   "outputs": [],
   "source": [
    "from IPython.display import display\n",
    "import pandas as pd\n",
    "import math\n",
    "\n",
    "# Funciones que utilizaremos:\n",
    "\n",
    "def cargar_datos(csv_filename):\n",
    "    df = pd.read_csv(csv_filename)\n",
    "    X = df.drop(\"survived\", axis=1)\n",
    "    y = df.survived\n",
    "    return X, y\n",
    "\n",
    "def predict_instance(x):\n",
    "    ## COMPLETAR AQUI. Modificar las siguientes líneas\n",
    "    # la variable prediction debe contener la etiqueta 0 o 1 \n",
    "    # este será su algoritmo algoritmo para predecir si sobrevivirá o no por instancia.\n",
    "    prediction = 0 if str(x.boat).lower() == 'nan' or  else 1\n",
    "    ## FIN DE COMPLETAR\n",
    "    return prediction\n",
    "\n",
    "\n",
    "def predict(X):\n",
    "    y_predicted = []\n",
    "    for x in X.itertuples(): \n",
    "                \n",
    "        y_i = predict_instance(x) \n",
    "        \n",
    "        y_predicted.append(y_i)\n",
    "    return y_predicted\n",
    "    \n",
    "def accuracy(y_predicted, y_real):\n",
    "    return sum([y_i == y_j for (y_i, y_j) in zip(y_predicted, y_real)])/len(y_real)"
   ]
  },
  {
   "cell_type": "code",
   "execution_count": 34,
   "metadata": {},
   "outputs": [
    {
     "name": "stdout",
     "output_type": "stream",
     "text": [
      "Accuracy final:  0.975\n"
     ]
    }
   ],
   "source": [
    "# Codigo a ejecutar:\n",
    "\n",
    "X, y = cargar_datos(csv_filename=\"titanic.csv\")\n",
    "# Recomendación: explorar los datos X para ver que pinta tienen. \n",
    "\n",
    "y_pred = predict(X)\n",
    "# Completar el algoritmo para mejorar esta performance. \n",
    "\n",
    "print(\"Accuracy final: \", round(accuracy(y_pred, y), 3))"
   ]
  },
  {
   "cell_type": "code",
   "execution_count": 45,
   "metadata": {},
   "outputs": [
    {
     "data": {
      "text/plain": [
       "0       True\n",
       "1       True\n",
       "2       True\n",
       "3       True\n",
       "4       True\n",
       "5       True\n",
       "6       True\n",
       "7       True\n",
       "8       True\n",
       "9       True\n",
       "10      True\n",
       "11      True\n",
       "12      True\n",
       "13      True\n",
       "14      True\n",
       "15      True\n",
       "16      True\n",
       "17      True\n",
       "18      True\n",
       "19      True\n",
       "20      True\n",
       "21      True\n",
       "22      True\n",
       "23      True\n",
       "24      True\n",
       "25      True\n",
       "26      True\n",
       "27      True\n",
       "28      True\n",
       "29      True\n",
       "        ... \n",
       "979     True\n",
       "980     True\n",
       "981     True\n",
       "982     True\n",
       "983     True\n",
       "984     True\n",
       "985     True\n",
       "986     True\n",
       "987     True\n",
       "988     True\n",
       "989     True\n",
       "990     True\n",
       "991     True\n",
       "992     True\n",
       "993     True\n",
       "994     True\n",
       "995     True\n",
       "996     True\n",
       "997     True\n",
       "998     True\n",
       "999     True\n",
       "1000    True\n",
       "1001    True\n",
       "1002    True\n",
       "1003    True\n",
       "1004    True\n",
       "1005    True\n",
       "1006    True\n",
       "1007    True\n",
       "1008    True\n",
       "Name: boat, Length: 1009, dtype: bool"
      ]
     },
     "execution_count": 45,
     "metadata": {},
     "output_type": "execute_result"
    }
   ],
   "source": [
    "X.boat != 'NaN'"
   ]
  }
 ],
 "metadata": {
  "kernelspec": {
   "display_name": "Python 3",
   "language": "python",
   "name": "python3"
  },
  "language_info": {
   "codemirror_mode": {
    "name": "ipython",
    "version": 3
   },
   "file_extension": ".py",
   "mimetype": "text/x-python",
   "name": "python",
   "nbconvert_exporter": "python",
   "pygments_lexer": "ipython3",
   "version": "3.6.5"
  }
 },
 "nbformat": 4,
 "nbformat_minor": 2
}
